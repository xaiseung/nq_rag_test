{
 "cells": [
  {
   "cell_type": "markdown",
   "metadata": {},
   "source": [
    "# Make Faiss Index from wiki_dqr"
   ]
  },
  {
   "cell_type": "code",
   "execution_count": 1,
   "metadata": {},
   "outputs": [],
   "source": [
    "from typing import Any\n",
    "\n",
    "from langchain_community.vectorstores import FAISS\n",
    "import datasets\n",
    "import tqdm\n",
    "\n",
    "from dpr_embedding import CustomEmbeddings\n",
    "\n",
    "DEVICE = \"cuda:0\""
   ]
  },
  {
   "cell_type": "code",
   "execution_count": null,
   "metadata": {},
   "outputs": [],
   "source": [
    "wiki_datasets = datasets.load_dataset(\"wiki_dpr\", \"psgs_w100.nq.compressed\")"
   ]
  },
  {
   "cell_type": "code",
   "execution_count": null,
   "metadata": {},
   "outputs": [],
   "source": [
    "#replaced by 'from dpr_embedding import CustomEmbeddings'\n",
    "'''\n",
    "class CustomEmbeddings(Embeddings):\n",
    "    def __init__(self, model_name_or_path, model_kwargs=None):\n",
    "        if not model_kwargs:\n",
    "            model_kwargs = {}\n",
    "        self.tokenizer = DPRQuestionEncoderTokenizer.from_pretrained(model_name_or_path)\n",
    "        self.model = DPRQuestionEncoder.from_pretrained(model_name_or_path, **model_kwargs)\n",
    "        self.device = model_kwargs[\"device_map\"] if \"device_map\" in model_kwargs else \"cpu\" \n",
    "    def embed_documents(self, text):\n",
    "        tmp = self.tokenizer(text, padding=True, return_tensors=\"pt\").to(self.device)\n",
    "        input_ids, token_type_ids, attention_mask = tmp[\"input_ids\"], tmp[\"token_type_ids\"], tmp[\"attention_mask\"]\n",
    "        res = self.model(\n",
    "            input_ids=input_ids,\n",
    "            attention_mask=attention_mask,\n",
    "            token_type_ids=token_type_ids).pooler_output.detach().cpu().numpy()\n",
    "        #print(res.shape)\n",
    "        return res\n",
    "    def embed_query(self, text: str):\n",
    "        \"\"\"Compute query embeddings using a HuggingFace transformer model.\n",
    "\n",
    "        Args:\n",
    "            text: The text to embed.\n",
    "\n",
    "        Returns:\n",
    "            Embeddings for the text.\n",
    "        \"\"\"\n",
    "        return self.embed_documents([text])[0]\n",
    "'''\n",
    "\n",
    "embedding = CustomEmbeddings(\"facebook/dpr-question_encoder-single-nq-base\", model_kwargs={\"device_map\": DEVICE})"
   ]
  },
  {
   "cell_type": "code",
   "execution_count": null,
   "metadata": {},
   "outputs": [],
   "source": [
    "faiss = None\n",
    "\n",
    "stride = 10000\n",
    "datasets_len = len(wiki_datasets[\"train\"])\n",
    "for i in tqdm.trange(0, datasets_len, stride):\n",
    "    l, r = i, min(i+stride, datasets_len)\n",
    "    tmp = wiki_datasets[\"train\"][l:r]\n",
    "    texts = tmp[\"text\"]\n",
    "    embeddings = tmp[\"embeddings\"]\n",
    "    if faiss:\n",
    "        faiss.add_embeddings(zip(texts, embeddings))\n",
    "    else:\n",
    "        faiss = FAISS.from_embeddings(zip(texts, embeddings), embedding=embedding, distance_strategy=\"MAX_INNER_PRODUCT\")\n",
    "\n",
    "faiss.save_local(\"./db/faiss\")"
   ]
  },
  {
   "cell_type": "markdown",
   "metadata": {},
   "source": [
    "# FAISS TEST"
   ]
  },
  {
   "cell_type": "code",
   "execution_count": 10,
   "metadata": {},
   "outputs": [],
   "source": [
    "# load faiss if you resume from here.\n",
    "faiss = FAISS.load_local(\"./db/faiss\", embeddings=embedding, allow_dangerous_deserialization=True)"
   ]
  },
  {
   "cell_type": "code",
   "execution_count": 39,
   "metadata": {},
   "outputs": [],
   "source": [
    "retriever = faiss.as_retriever(search_kwargs={\"k\":4})\n",
    "\n",
    "docs = retriever.invoke(\"who is the aaron?\")\n",
    "docs"
   ]
  }
 ],
 "metadata": {
  "kernelspec": {
   "display_name": "xais_rag",
   "language": "python",
   "name": "python3"
  },
  "language_info": {
   "codemirror_mode": {
    "name": "ipython",
    "version": 3
   },
   "file_extension": ".py",
   "mimetype": "text/x-python",
   "name": "python",
   "nbconvert_exporter": "python",
   "pygments_lexer": "ipython3",
   "version": "3.10.14"
  }
 },
 "nbformat": 4,
 "nbformat_minor": 2
}
