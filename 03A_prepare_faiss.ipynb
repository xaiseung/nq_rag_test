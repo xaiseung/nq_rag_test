{
 "cells": [
  {
   "cell_type": "markdown",
   "metadata": {},
   "source": [
    "# Make Faiss Index from wiki_dqr"
   ]
  },
  {
   "cell_type": "code",
   "execution_count": 1,
   "metadata": {},
   "outputs": [],
   "source": [
    "from typing import Any\n",
    "\n",
    "from langchain_community.vectorstores import FAISS\n",
    "import datasets\n",
    "import tqdm\n",
    "\n",
    "from dpr_embedding import CustomEmbeddings\n",
    "\n",
    "DEVICE = \"cuda:0\""
   ]
  },
  {
   "cell_type": "code",
   "execution_count": 2,
   "metadata": {},
   "outputs": [
    {
     "name": "stderr",
     "output_type": "stream",
     "text": [
      "/compuworks/anaconda3/envs/xais_torch23/lib/python3.10/site-packages/datasets/load.py:1486: FutureWarning: The repository for wiki_dpr contains custom code which must be executed to correctly load the dataset. You can inspect the repository content at https://hf.co/datasets/wiki_dpr\n",
      "You can avoid this message in future by passing the argument `trust_remote_code=True`.\n",
      "Passing `trust_remote_code=True` will be mandatory to load this dataset from the next major release of `datasets`.\n",
      "  warnings.warn(\n"
     ]
    },
    {
     "data": {
      "application/vnd.jupyter.widget-view+json": {
       "model_id": "5490565cb3304e0482430c764fa864a3",
       "version_major": 2,
       "version_minor": 0
      },
      "text/plain": [
       "Loading dataset shards:   0%|          | 0/161 [00:00<?, ?it/s]"
      ]
     },
     "metadata": {},
     "output_type": "display_data"
    }
   ],
   "source": [
    "wiki_datasets = datasets.load_dataset(\"wiki_dpr\", \"psgs_w100.nq.compressed\")"
   ]
  },
  {
   "cell_type": "code",
   "execution_count": 3,
   "metadata": {},
   "outputs": [
    {
     "name": "stderr",
     "output_type": "stream",
     "text": [
      "Some weights of the model checkpoint at facebook/dpr-question_encoder-single-nq-base were not used when initializing DPRQuestionEncoder: ['question_encoder.bert_model.pooler.dense.bias', 'question_encoder.bert_model.pooler.dense.weight']\n",
      "- This IS expected if you are initializing DPRQuestionEncoder from the checkpoint of a model trained on another task or with another architecture (e.g. initializing a BertForSequenceClassification model from a BertForPreTraining model).\n",
      "- This IS NOT expected if you are initializing DPRQuestionEncoder from the checkpoint of a model that you expect to be exactly identical (initializing a BertForSequenceClassification model from a BertForSequenceClassification model).\n"
     ]
    }
   ],
   "source": [
    "#replaced by 'from dpr_embedding import CustomEmbeddings'\n",
    "'''\n",
    "class CustomEmbeddings(Embeddings):\n",
    "    def __init__(self, model_name_or_path, model_kwargs=None):\n",
    "        if not model_kwargs:\n",
    "            model_kwargs = {}\n",
    "        self.tokenizer = DPRQuestionEncoderTokenizer.from_pretrained(model_name_or_path)\n",
    "        self.model = DPRQuestionEncoder.from_pretrained(model_name_or_path, **model_kwargs)\n",
    "        self.device = model_kwargs[\"device_map\"] if \"device_map\" in model_kwargs else \"cpu\" \n",
    "    def embed_documents(self, text):\n",
    "        tmp = self.tokenizer(text, padding=True, return_tensors=\"pt\").to(self.device)\n",
    "        input_ids, token_type_ids, attention_mask = tmp[\"input_ids\"], tmp[\"token_type_ids\"], tmp[\"attention_mask\"]\n",
    "        res = self.model(\n",
    "            input_ids=input_ids,\n",
    "            attention_mask=attention_mask,\n",
    "            token_type_ids=token_type_ids).pooler_output.detach().cpu().numpy()\n",
    "        #print(res.shape)\n",
    "        return res\n",
    "    def embed_query(self, text: str):\n",
    "        \"\"\"Compute query embeddings using a HuggingFace transformer model.\n",
    "\n",
    "        Args:\n",
    "            text: The text to embed.\n",
    "\n",
    "        Returns:\n",
    "            Embeddings for the text.\n",
    "        \"\"\"\n",
    "        return self.embed_documents([text])[0]\n",
    "'''\n",
    "\n",
    "embedding = CustomEmbeddings(\"facebook/dpr-question_encoder-single-nq-base\", model_kwargs={\"device_map\": DEVICE})"
   ]
  },
  {
   "cell_type": "code",
   "execution_count": 1,
   "metadata": {},
   "outputs": [
    {
     "ename": "NameError",
     "evalue": "name 'raw_datasets' is not defined",
     "output_type": "error",
     "traceback": [
      "\u001b[0;31m---------------------------------------------------------------------------\u001b[0m",
      "\u001b[0;31mNameError\u001b[0m                                 Traceback (most recent call last)",
      "Cell \u001b[0;32mIn[1], line 4\u001b[0m\n\u001b[1;32m      1\u001b[0m faiss \u001b[38;5;241m=\u001b[39m \u001b[38;5;28;01mNone\u001b[39;00m\n\u001b[1;32m      3\u001b[0m stride \u001b[38;5;241m=\u001b[39m \u001b[38;5;241m10000\u001b[39m\n\u001b[0;32m----> 4\u001b[0m datasets_len \u001b[38;5;241m=\u001b[39m \u001b[38;5;28mlen\u001b[39m(\u001b[43mraw_datasets\u001b[49m[\u001b[38;5;124m\"\u001b[39m\u001b[38;5;124mtrain\u001b[39m\u001b[38;5;124m\"\u001b[39m])\n\u001b[1;32m      5\u001b[0m \u001b[38;5;28;01mfor\u001b[39;00m i \u001b[38;5;129;01min\u001b[39;00m tqdm\u001b[38;5;241m.\u001b[39mtrange(\u001b[38;5;241m0\u001b[39m, datasets_len, stride):\n\u001b[1;32m      6\u001b[0m     \u001b[38;5;66;03m#print(i)\u001b[39;00m\n\u001b[1;32m      7\u001b[0m     l, r \u001b[38;5;241m=\u001b[39m i, \u001b[38;5;28mmin\u001b[39m(i\u001b[38;5;241m+\u001b[39mstride, datasets_len)\n",
      "\u001b[0;31mNameError\u001b[0m: name 'raw_datasets' is not defined"
     ]
    }
   ],
   "source": [
    "faiss = None\n",
    "\n",
    "stride = 10000\n",
    "datasets_len = len(wiki_datasets[\"train\"])\n",
    "for i in tqdm.trange(0, datasets_len, stride):\n",
    "    l, r = i, min(i+stride, datasets_len)\n",
    "    tmp = wiki_datasets[\"train\"][l:r]\n",
    "    texts = tmp[\"text\"]\n",
    "    embeddings = tmp[\"embeddings\"]\n",
    "    if faiss:\n",
    "        faiss.add_embeddings(zip(texts, embeddings))\n",
    "    else:\n",
    "        faiss = FAISS.from_embeddings(zip(texts, embeddings), embedding=embedding, distance_strategy=\"MAX_INNER_PRODUCT\")\n",
    "\n",
    "faiss.save_local(\"./db/faiss\")"
   ]
  },
  {
   "cell_type": "markdown",
   "metadata": {},
   "source": [
    "# FAISS TEST"
   ]
  },
  {
   "cell_type": "code",
   "execution_count": 10,
   "metadata": {},
   "outputs": [],
   "source": [
    "# load faiss if you resume from here.\n",
    "faiss = FAISS.load_local(\"./db/faiss\", embeddings=embedding, allow_dangerous_deserialization=True)"
   ]
  },
  {
   "cell_type": "code",
   "execution_count": 39,
   "metadata": {},
   "outputs": [],
   "source": [
    "retriever = faiss.as_retriever(search_kwargs={\"k\":4})\n",
    "\n",
    "docs = retriever.invoke(\"who is the aaron?\")\n",
    "docs"
   ]
  }
 ],
 "metadata": {
  "kernelspec": {
   "display_name": "xais_rag",
   "language": "python",
   "name": "python3"
  },
  "language_info": {
   "codemirror_mode": {
    "name": "ipython",
    "version": 3
   },
   "file_extension": ".py",
   "mimetype": "text/x-python",
   "name": "python",
   "nbconvert_exporter": "python",
   "pygments_lexer": "ipython3",
   "version": "3.10.14"
  }
 },
 "nbformat": 4,
 "nbformat_minor": 2
}
